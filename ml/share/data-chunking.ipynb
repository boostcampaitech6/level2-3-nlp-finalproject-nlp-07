{
 "cells": [
  {
   "cell_type": "code",
   "execution_count": 25,
   "metadata": {},
   "outputs": [
    {
     "name": "stdout",
     "output_type": "stream",
     "text": [
      "\u001b[33mWARNING: Running pip as the 'root' user can result in broken permissions and conflicting behaviour with the system package manager. It is recommended to use a virtual environment instead: https://pip.pypa.io/warnings/venv\u001b[0m\u001b[33m\n",
      "\u001b[0m"
     ]
    }
   ],
   "source": [
    "!pip install miditoolkit -q # MidiFile() 로 midi file 읽어오기 위한 라이브러리"
   ]
  },
  {
   "cell_type": "code",
   "execution_count": 26,
   "metadata": {},
   "outputs": [],
   "source": [
    "import os\n",
    "from pathlib import Path\n",
    "from copy import deepcopy\n",
    "from math import ceil"
   ]
  },
  {
   "cell_type": "code",
   "execution_count": 27,
   "metadata": {},
   "outputs": [
    {
     "data": {
      "text/plain": [
       "('/home/level2-3-nlp-finalproject-nlp-07/ml/',\n",
       " '/home/level2-3-nlp-finalproject-nlp-07/ml/data/full/')"
      ]
     },
     "execution_count": 27,
     "metadata": {},
     "output_type": "execute_result"
    }
   ],
   "source": [
    "# 절대 경로 지정 (필요시 수정)\n",
    "base_path = '/home/level2-3-nlp-finalproject-nlp-07/ml/'\n",
    "full_path = base_path + 'data/full/'\n",
    "base_path, full_path"
   ]
  },
  {
   "cell_type": "code",
   "execution_count": 28,
   "metadata": {},
   "outputs": [
    {
     "data": {
      "text/plain": [
       "['jazz-midi-366-songs']"
      ]
     },
     "execution_count": 28,
     "metadata": {},
     "output_type": "execute_result"
    }
   ],
   "source": [
    "full_midi_paths = ['jazz-midi-366-songs']\n",
    "full_midi_paths"
   ]
  },
  {
   "cell_type": "code",
   "execution_count": 29,
   "metadata": {},
   "outputs": [
    {
     "name": "stdout",
     "output_type": "stream",
     "text": [
      "jazz-midi-366-songs 366\n"
     ]
    }
   ],
   "source": [
    "midi_paths = {}\n",
    "for full_midi_path in full_midi_paths:\n",
    "    if full_midi_path not in midi_paths:\n",
    "        midi_paths[full_midi_path] = []\n",
    "    midi_paths[full_midi_path] += list(Path(full_path + full_midi_path).rglob('*.mid'))\n",
    "    \n",
    "for k,v in midi_paths.items():\n",
    "    print(k, len(v))"
   ]
  },
  {
   "cell_type": "code",
   "execution_count": 31,
   "metadata": {},
   "outputs": [
    {
     "name": "stdout",
     "output_type": "stream",
     "text": [
      "jazz-midi-366-songs : 366개의 midi 파일을 처리합니다.\n"
     ]
    },
    {
     "name": "stderr",
     "output_type": "stream",
     "text": [
      " 19%|█▉        | 70/366 [02:46<03:44,  1.32it/s]  "
     ]
    },
    {
     "name": "stdout",
     "output_type": "stream",
     "text": [
      "Skipping /home/level2-3-nlp-finalproject-nlp-07/ml/data/full/jazz-midi-366-songs/246_OpFunk.mid because of the following error: Could not decode key with 0 flats and mode 255\n"
     ]
    },
    {
     "name": "stderr",
     "output_type": "stream",
     "text": [
      " 97%|█████████▋| 355/366 [12:38<00:41,  3.78s/it]"
     ]
    },
    {
     "name": "stdout",
     "output_type": "stream",
     "text": [
      "Skipping /home/level2-3-nlp-finalproject-nlp-07/ml/data/full/jazz-midi-366-songs/263_poinciana.mid because of the following error: Could not decode key with 0 flats and mode 2\n"
     ]
    },
    {
     "name": "stderr",
     "output_type": "stream",
     "text": [
      " 98%|█████████▊| 360/366 [12:41<00:08,  1.34s/it]"
     ]
    },
    {
     "name": "stdout",
     "output_type": "stream",
     "text": [
      "Skipping /home/level2-3-nlp-finalproject-nlp-07/ml/data/full/jazz-midi-366-songs/076_cantalope.mid because of the following error: data byte must be in range 0..127\n"
     ]
    },
    {
     "name": "stderr",
     "output_type": "stream",
     "text": [
      "100%|██████████| 366/366 [12:52<00:00,  2.11s/it]\n"
     ]
    }
   ],
   "source": [
    "from miditoolkit import MidiFile\n",
    "from tqdm import tqdm\n",
    "\n",
    "MAX_NB_BAR = 8\n",
    "OVERLAP = 2\n",
    "# MIN_NB_NOTES = 20\n",
    "\n",
    "output_path = base_path + f'data/chunks{MAX_NB_BAR}overlap{OVERLAP}/'\n",
    "\n",
    "for k, v in midi_paths.items():\n",
    "    print(k + \" : \" + str(len(v)) + \"개의 midi 파일을 처리합니다.\")\n",
    "    for midi_path in tqdm(v):\n",
    "        try:\n",
    "            midi = MidiFile(midi_path)\n",
    "        except Exception as e:\n",
    "            print(\"Skipping\", midi_path, \"because of the following error:\", e)\n",
    "            continue\n",
    "        \n",
    "        if not os.path.exists(output_path + f'{k}/{midi_path.stem}'):\n",
    "            os.makedirs(output_path + f'{k}/{midi_path.stem}')\n",
    "        \n",
    "        # 1박 * 4박자 * 8마디\n",
    "        ticks_per_cut = midi.ticks_per_beat * 4 * MAX_NB_BAR\n",
    "        ticks_over = midi.ticks_per_beat * 4 * OVERLAP\n",
    "        nb_cut = ceil(midi.max_tick / ticks_per_cut)\n",
    "        if nb_cut < 2:\n",
    "            # 2마디도 안 나오면 그냥 원본 그대로 저장\n",
    "            midi.dump(output_path + f'{k}/{midi_path.stem}/0.mid')\n",
    "            continue\n",
    "        \n",
    "        # 8마디 단위로 청킹    \n",
    "        midi_cuts = [deepcopy(midi) for _ in range(nb_cut)]\n",
    "        for j, track in enumerate(midi.instruments):\n",
    "            for midi_short in midi_cuts:\n",
    "                midi_short.instruments[j].notes = []\n",
    "        \n",
    "        # Chunking\n",
    "        for j, track in enumerate(midi.instruments):\n",
    "            track.notes = sorted(track.notes, key=lambda x: x.start)\n",
    "            for note in track.notes:\n",
    "                cut_idx = note.start // ticks_per_cut\n",
    "                note_copy = deepcopy(note)\n",
    "                note_copy.start -= cut_idx * ticks_per_cut\n",
    "                note_copy.end -= cut_idx * ticks_per_cut\n",
    "                midi_cuts[cut_idx].instruments[j].notes.append(note_copy)            \n",
    "                if cut_idx!=0 and note_copy.start < ticks_over:\n",
    "                    note_copy.start += ticks_per_cut\n",
    "                    note_copy.end += ticks_per_cut\n",
    "                    midi_cuts[cut_idx-1].instruments[j].notes.append(note_copy)\n",
    "\n",
    "        # Saving\n",
    "        for j, midi_short in enumerate(midi_cuts):\n",
    "            # if sum(len(track.notes) for track in midi_short.instruments) < MIN_NB_NOTES:\n",
    "            #     print(\"Skipping\", midi_path, \"because it's too short\")\n",
    "            #     continue\n",
    "            midi_short.dump(output_path + f'{k}/{midi_path.stem}/{j}.mid')"
   ]
  },
  {
   "cell_type": "code",
   "execution_count": null,
   "metadata": {},
   "outputs": [],
   "source": []
  }
 ],
 "metadata": {
  "kernelspec": {
   "display_name": "lakh-gpt2",
   "language": "python",
   "name": "python3"
  },
  "language_info": {
   "codemirror_mode": {
    "name": "ipython",
    "version": 3
   },
   "file_extension": ".py",
   "mimetype": "text/x-python",
   "name": "python",
   "nbconvert_exporter": "python",
   "pygments_lexer": "ipython3",
   "version": "3.9.18"
  }
 },
 "nbformat": 4,
 "nbformat_minor": 2
}
